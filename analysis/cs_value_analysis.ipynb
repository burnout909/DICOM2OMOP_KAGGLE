{
 "cells": [
  {
   "cell_type": "code",
   "execution_count": null,
   "metadata": {},
   "outputs": [],
   "source": [
    "import pandas as pd\n",
    "\n",
    "col_types = {\n",
    "    'institution': str,\n",
    "    'manufacturer': str,\n",
    "    'model': str,\n",
    "    'modality': str,\n",
    "    'year': str,\n",
    "    'tag': str,\n",
    "    'value': str,\n",
    "    'subject': str,\n",
    "    'session': str,\n",
    "    'series': str,\n",
    "    'image': str\n",
    "}\n",
    "\n",
    "# Insert your source file \n",
    "# df = pd.read_csv('<your_file_directory>', dtype=col_types)\n",
    "summary_df = df.groupby(['institution', 'manufacturer', 'model', 'modality', 'year', 'tag', 'value']).nunique().reset_index()\n",
    "summary_df.iloc[:-1].to_csv('./files/dicom_oct_cs_summary.csv', index=False)"
   ]
  }
 ],
 "metadata": {
  "kernelspec": {
   "display_name": "Python 3",
   "language": "python",
   "name": "python3"
  },
  "language_info": {
   "name": "python",
   "version": "3.9.6"
  }
 },
 "nbformat": 4,
 "nbformat_minor": 2
}
