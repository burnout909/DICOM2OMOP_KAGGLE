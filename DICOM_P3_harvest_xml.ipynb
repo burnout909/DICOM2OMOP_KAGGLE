{
 "cells": [
  {
   "cell_type": "code",
   "execution_count": 1,
   "metadata": {},
   "outputs": [
    {
     "name": "stdout",
     "output_type": "stream",
     "text": [
      "Note: you may need to restart the kernel to use updated packages.\n"
     ]
    },
    {
     "name": "stderr",
     "output_type": "stream",
     "text": [
      "WARNING: Ignoring invalid distribution -ip (c:\\users\\14107\\appdata\\local\\packages\\pythonsoftwarefoundation.python.3.9_qbz5n2kfra8p0\\localcache\\local-packages\\python39\\site-packages)\n",
      "WARNING: Ignoring invalid distribution -ip (c:\\users\\14107\\appdata\\local\\packages\\pythonsoftwarefoundation.python.3.9_qbz5n2kfra8p0\\localcache\\local-packages\\python39\\site-packages)\n",
      "ERROR: Could not find a version that satisfies the requirement xml.etree.ElementTree (from versions: none)\n",
      "ERROR: No matching distribution found for xml.etree.ElementTree\n",
      "WARNING: Ignoring invalid distribution -ip (c:\\users\\14107\\appdata\\local\\packages\\pythonsoftwarefoundation.python.3.9_qbz5n2kfra8p0\\localcache\\local-packages\\python39\\site-packages)\n",
      "WARNING: Ignoring invalid distribution -ip (c:\\users\\14107\\appdata\\local\\packages\\pythonsoftwarefoundation.python.3.9_qbz5n2kfra8p0\\localcache\\local-packages\\python39\\site-packages)\n",
      "WARNING: Ignoring invalid distribution -ip (c:\\users\\14107\\appdata\\local\\packages\\pythonsoftwarefoundation.python.3.9_qbz5n2kfra8p0\\localcache\\local-packages\\python39\\site-packages)\n",
      "\n",
      "[notice] A new release of pip available: 22.3.1 -> 23.3.1\n",
      "[notice] To update, run: python.exe -m pip install --upgrade pip\n"
     ]
    }
   ],
   "source": [
    "pip install xml.etree.ElementTree"
   ]
  },
  {
   "cell_type": "markdown",
   "metadata": {},
   "source": [
    "Part 6 XML document has a para id for each tag. \n",
    "<para xml:id=\"para_07bc8803-afad-4b82-800d-9c641036d2a1\">(0008,0060)</para>\n"
   ]
  },
  {
   "cell_type": "markdown",
   "metadata": {},
   "source": [
    "## DICOM Standard harvesting of Part 3 \n",
    "### Extract relationships between tags and CIDs\n",
    "\n",
    "[Useful Online XML Viewer](https://jsonformatter.org/xml-viewer)\n",
    "\n",
    "Links to the XML Objects\n",
    "- [DICOM Part 3](https://dicom.nema.org/medical/dicom/current/source/docbook/part03/part03.xml)\n",
    "- [DICOM Part 6](https://dicom.nema.org/medical/dicom/current/source/docbook/part06/part06.xml)\n",
    "- [DICOM Part 16](https://dicom.nema.org/medical/dicom/current/source/docbook/part16/part16.xml)\n"
   ]
  },
  {
   "cell_type": "code",
   "execution_count": 1,
   "metadata": {},
   "outputs": [],
   "source": [
    "import requests\n",
    "import xml.etree.ElementTree as ET\n",
    "\n",
    "# URI for DICOM Standard Part 6\n",
    "xml_uri = 'https://dicom.nema.org/medical/dicom/current/source/docbook/part03/part03.xml'\n",
    "\n",
    "# Parse the XML content\n",
    "response = requests.get(xml_uri)\n",
    "root = ET.fromstring(response.content)"
   ]
  },
  {
   "cell_type": "code",
   "execution_count": 51,
   "metadata": {},
   "outputs": [
    {
     "name": "stdout",
     "output_type": "stream",
     "text": [
      "{http://docbook.org/ns/docbook}title\n",
      "{http://docbook.org/ns/docbook}mediaobject\n",
      "{http://docbook.org/ns/docbook}title\n",
      "{http://docbook.org/ns/docbook}mediaobject\n",
      "{http://docbook.org/ns/docbook}title\n",
      "{http://docbook.org/ns/docbook}mediaobject\n",
      "{http://docbook.org/ns/docbook}title\n",
      "{http://docbook.org/ns/docbook}mediaobject\n",
      "{http://docbook.org/ns/docbook}title\n",
      "{http://docbook.org/ns/docbook}mediaobject\n",
      "{http://docbook.org/ns/docbook}title\n",
      "{http://docbook.org/ns/docbook}mediaobject\n"
     ]
    }
   ],
   "source": [
    "for child in root:\n",
    "    if 'label' in child.attrib:\n",
    "        #print(child.text)\n",
    "        for child2 in child:\n",
    "            if 'para' in child2.tag:\n",
    "                #print(child2.text)\n",
    "                for child3 in child2:\n",
    "                    #print(child3.attrib)\n",
    "                    for child4 in child3:\n",
    "                        print(child4.tag)\n",
    "            \n"
   ]
  }
 ],
 "metadata": {
  "kernelspec": {
   "display_name": "Python 3",
   "language": "python",
   "name": "python3"
  },
  "language_info": {
   "codemirror_mode": {
    "name": "ipython",
    "version": 3
   },
   "file_extension": ".py",
   "mimetype": "text/x-python",
   "name": "python",
   "nbconvert_exporter": "python",
   "pygments_lexer": "ipython3",
   "version": "3.9.13"
  }
 },
 "nbformat": 4,
 "nbformat_minor": 2
}
