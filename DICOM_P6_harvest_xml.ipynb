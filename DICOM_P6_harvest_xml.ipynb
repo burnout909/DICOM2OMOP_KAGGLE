{
 "cells": [
  {
   "attachments": {},
   "cell_type": "markdown",
   "metadata": {},
   "source": [
    "## DICOM Standard Part 6"
   ]
  },
  {
   "cell_type": "code",
   "execution_count": 1,
   "metadata": {},
   "outputs": [
    {
     "name": "stderr",
     "output_type": "stream",
     "text": [
      "/Users/wooyeonpark/Library/Python/3.9/lib/python/site-packages/urllib3/__init__.py:34: NotOpenSSLWarning: urllib3 v2 only supports OpenSSL 1.1.1+, currently the 'ssl' module is compiled with 'LibreSSL 2.8.3'. See: https://github.com/urllib3/urllib3/issues/3020\n",
      "  warnings.warn(\n"
     ]
    }
   ],
   "source": [
    "import requests\n",
    "import xml.etree.ElementTree as ET\n",
    "\n",
    "# URI for DICOM Standard Part 6\n",
    "xml_uri = 'https://dicom.nema.org/medical/dicom/current/source/docbook/part06/part06.xml'\n",
    "\n",
    "# Parse the XML content\n",
    "response = requests.get(xml_uri)\n",
    "root = ET.fromstring(response.content)"
   ]
  },
  {
   "cell_type": "code",
   "execution_count": 2,
   "metadata": {},
   "outputs": [],
   "source": [
    "# Find the child node with label=\"6\"\n",
    "for child in root:\n",
    "    if child.attrib.get('label') == '6':\n",
    "        selected_node = child\n",
    "        break"
   ]
  },
  {
   "cell_type": "code",
   "execution_count": 3,
   "metadata": {},
   "outputs": [],
   "source": [
    "import pandas as pd\n",
    "from collections import defaultdict\n",
    "\n",
    "# Get table 1 from Chapter 6\n",
    "if selected_node is not None:\n",
    "    grandchild_table = selected_node.find('.//{http://docbook.org/ns/docbook}table')\n",
    "    if grandchild_table is not None:\n",
    "        thead = grandchild_table.find('.//{http://docbook.org/ns/docbook}thead')\n",
    "        tbody = grandchild_table.find('.//{http://docbook.org/ns/docbook}tbody')\n",
    "\n",
    "        # Store column names\n",
    "        column_names = []\n",
    "        if thead is not None:\n",
    "            for tr in thead.findall('.//{http://docbook.org/ns/docbook}tr'):\n",
    "                thead_names = tr.findall('.//{http://docbook.org/ns/docbook}emphasis')\n",
    "                if thead_names is not None:\n",
    "                    for name in thead_names:\n",
    "                        column_names.append(name.text.strip())\n",
    "\n",
    "            # Store row values\n",
    "            rows = tbody.findall('.//{http://docbook.org/ns/docbook}tr')\n",
    "            rows_data = []\n",
    "\n",
    "            # Loop through tbody to extract values\n",
    "            for tr in rows:\n",
    "                row_values = defaultdict(lambda: None)\n",
    "                idx = 0\n",
    "                for para in tr.findall('.//{http://docbook.org/ns/docbook}para'):\n",
    "                    emphasis = para.find('.//{http://docbook.org/ns/docbook}emphasis')\n",
    "                    if emphasis is not None and emphasis.text is not None:\n",
    "                        row_values[column_names[idx]] = emphasis.text.strip()\n",
    "                        idx += 1\n",
    "                        if idx >= len(column_names):\n",
    "                            break\n",
    "                    else:\n",
    "                        if para is not None and para.text is not None:\n",
    "                            row_values[column_names[idx]] = para.text.strip()\n",
    "                            idx += 1\n",
    "                            if idx >= len(column_names):\n",
    "                                break\n",
    "\n",
    "                # Append to the table only if it has more than 3 values\n",
    "                if sum(1 for value in row_values.values() if value is not None) > 3:\n",
    "                    rows_data.append(row_values)\n",
    "\n",
    "            # Save the output as a DataFrame\n",
    "            df = pd.DataFrame(rows_data, columns=column_names)\n",
    "else:\n",
    "    print(\"Node with label='6' not found.\")\n"
   ]
  },
  {
   "cell_type": "code",
   "execution_count": 4,
   "metadata": {},
   "outputs": [
    {
     "data": {
      "text/html": [
       "<div>\n",
       "<style scoped>\n",
       "    .dataframe tbody tr th:only-of-type {\n",
       "        vertical-align: middle;\n",
       "    }\n",
       "\n",
       "    .dataframe tbody tr th {\n",
       "        vertical-align: top;\n",
       "    }\n",
       "\n",
       "    .dataframe thead th {\n",
       "        text-align: right;\n",
       "    }\n",
       "</style>\n",
       "<table border=\"1\" class=\"dataframe\">\n",
       "  <thead>\n",
       "    <tr style=\"text-align: right;\">\n",
       "      <th></th>\n",
       "      <th>Tag</th>\n",
       "      <th>Name</th>\n",
       "      <th>Keyword</th>\n",
       "      <th>VR</th>\n",
       "      <th>VM</th>\n",
       "    </tr>\n",
       "  </thead>\n",
       "  <tbody>\n",
       "    <tr>\n",
       "      <th>0</th>\n",
       "      <td>(0008,0001)</td>\n",
       "      <td>Length to End</td>\n",
       "      <td>Length​To​End</td>\n",
       "      <td>UL</td>\n",
       "      <td>1</td>\n",
       "    </tr>\n",
       "    <tr>\n",
       "      <th>1</th>\n",
       "      <td>(0008,0005)</td>\n",
       "      <td>Specific Character Set</td>\n",
       "      <td>Specific​Character​Set</td>\n",
       "      <td>CS</td>\n",
       "      <td>1-n</td>\n",
       "    </tr>\n",
       "    <tr>\n",
       "      <th>2</th>\n",
       "      <td>(0008,0006)</td>\n",
       "      <td>Language Code Sequence</td>\n",
       "      <td>Language​Code​Sequence</td>\n",
       "      <td>SQ</td>\n",
       "      <td>1</td>\n",
       "    </tr>\n",
       "    <tr>\n",
       "      <th>3</th>\n",
       "      <td>(0008,0008)</td>\n",
       "      <td>Image Type</td>\n",
       "      <td>Image​Type</td>\n",
       "      <td>CS</td>\n",
       "      <td>2-n</td>\n",
       "    </tr>\n",
       "    <tr>\n",
       "      <th>4</th>\n",
       "      <td>(0008,0010)</td>\n",
       "      <td>Recognition Code</td>\n",
       "      <td>Recognition​Code</td>\n",
       "      <td>SH</td>\n",
       "      <td>1</td>\n",
       "    </tr>\n",
       "  </tbody>\n",
       "</table>\n",
       "</div>"
      ],
      "text/plain": [
       "           Tag                    Name                 Keyword  VR   VM\n",
       "0  (0008,0001)           Length to End           Length​To​End  UL    1\n",
       "1  (0008,0005)  Specific Character Set  Specific​Character​Set  CS  1-n\n",
       "2  (0008,0006)  Language Code Sequence  Language​Code​Sequence  SQ    1\n",
       "3  (0008,0008)              Image Type              Image​Type  CS  2-n\n",
       "4  (0008,0010)        Recognition Code        Recognition​Code  SH    1"
      ]
     },
     "execution_count": 4,
     "metadata": {},
     "output_type": "execute_result"
    }
   ],
   "source": [
    "df.head(5)"
   ]
  },
  {
   "cell_type": "code",
   "execution_count": 5,
   "metadata": {},
   "outputs": [
    {
     "data": {
      "text/plain": [
       "VR\n",
       "CS    799\n",
       "DS    483\n",
       "US    379\n",
       "FD    309\n",
       "FL    292\n",
       "IS    239\n",
       "UL     79\n",
       "DT     64\n",
       "DA     61\n",
       "TM     55\n",
       "AT     24\n",
       "SS     18\n",
       "SL     15\n",
       "UV      6\n",
       "SV      1\n",
       "Name: count, dtype: int64"
      ]
     },
     "execution_count": 5,
     "metadata": {},
     "output_type": "execute_result"
    }
   ],
   "source": [
    "included_VR = ['AT', 'CS', 'DA', 'DT', 'DS', 'FL', 'FD', 'IS', 'SL', 'SS', 'SV', 'TM', 'UL', 'US', 'UV']\n",
    "df[df['VR'].isin(included_VR)].VR.value_counts() #CS is values; others are numbers "
   ]
  },
  {
   "cell_type": "code",
   "execution_count": 16,
   "metadata": {},
   "outputs": [],
   "source": [
    "df.to_csv('./files/part6_attributes.csv', index=False)"
   ]
  },
  {
   "cell_type": "code",
   "execution_count": 8,
   "metadata": {},
   "outputs": [],
   "source": [
    "# output attributes with CS value represenatitive\n",
    "cs_attributes = df[df['VR']==\"CS\"]\n",
    "cs_attributes.to_csv(\"./files/part6_CS_attributes.csv\", index = False)"
   ]
  }
 ],
 "metadata": {
  "kernelspec": {
   "display_name": "Python 3",
   "language": "python",
   "name": "python3"
  },
  "language_info": {
   "codemirror_mode": {
    "name": "ipython",
    "version": 3
   },
   "file_extension": ".py",
   "mimetype": "text/x-python",
   "name": "python",
   "nbconvert_exporter": "python",
   "pygments_lexer": "ipython3",
   "version": "3.9.6"
  },
  "orig_nbformat": 4,
  "vscode": {
   "interpreter": {
    "hash": "d75886a766ecf1d67c0d1c554768ab55e9651a780e97b507eb22163b83a149f8"
   }
  }
 },
 "nbformat": 4,
 "nbformat_minor": 2
}
