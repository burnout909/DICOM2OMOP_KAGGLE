{
 "cells": [
  {
   "attachments": {},
   "cell_type": "markdown",
   "metadata": {},
   "source": [
    "# DICOM Standard Part 6"
   ]
  },
  {
   "cell_type": "markdown",
   "metadata": {},
   "source": [
    "## Option 1. Extract HTML"
   ]
  },
  {
   "cell_type": "code",
   "execution_count": null,
   "metadata": {},
   "outputs": [],
   "source": [
    "import xml.etree.ElementTree as ET\n",
    "import requests\n",
    "\n",
    "# XML URI\n",
    "xml_uri = 'https://dicom.nema.org/medical/dicom/current/source/docbook/part06.xml'\n",
    "\n",
    "# Fetch the XML data from the URI\n",
    "response = requests.get(xml_uri)\n",
    "if response.status_code == 200:\n",
    "    # Parse the XML content\n",
    "    root = ET.fromstring(response.content)\n",
    "\n",
    "    # Example: Print root tag\n",
    "    print(root.tag)\n",
    "else:\n",
    "    print(f\"Failed to retrieve XML, status code: {response.status_code}\")\n"
   ]
  },
  {
   "cell_type": "code",
   "execution_count": 29,
   "metadata": {},
   "outputs": [
    {
     "name": "stderr",
     "output_type": "stream",
     "text": [
      "/Library/Developer/CommandLineTools/Library/Frameworks/Python3.framework/Versions/3.9/lib/python3.9/html/parser.py:170: XMLParsedAsHTMLWarning: It looks like you're parsing an XML document using an HTML parser. If this really is an HTML document (maybe it's XHTML?), you can ignore or filter this warning. If it's XML, you should know that using an XML parser will be more reliable. To parse this document as XML, make sure you have the lxml package installed, and pass the keyword argument `features=\"xml\"` into the BeautifulSoup constructor.\n",
      "  k = self.parse_starttag(i)\n"
     ]
    },
    {
     "name": "stdout",
     "output_type": "stream",
     "text": [
      "              Tag                         Name                      Keyword  \\\n",
      "0     (0008,0001)                Length to End                Length​To​End   \n",
      "1     (0008,0005)       Specific Character Set       Specific​Character​Set   \n",
      "2     (0008,0006)       Language Code Sequence       Language​Code​Sequence   \n",
      "3     (0008,0008)                   Image Type                   Image​Type   \n",
      "4     (0008,0010)             Recognition Code             Recognition​Code   \n",
      "...           ...                          ...                          ...   \n",
      "5185  (FFFA,FFFA)  Digital Signatures Sequence  Digital​Signatures​Sequence   \n",
      "5186  (FFFC,FFFC)    Data Set Trailing Padding    Data​Set​Trailing​Padding   \n",
      "5187  (FFFE,E000)                         Item                         Item   \n",
      "5188  (FFFE,E00D)       Item Delimitation Item       Item​Delimitation​Item   \n",
      "5189  (FFFE,E0DD)   Sequence Delimitation Item   Sequence​Delimitation​Item   \n",
      "\n",
      "            VR   VM       \n",
      "0           UL    1  RET  \n",
      "1           CS  1-n       \n",
      "2           SQ    1       \n",
      "3           CS  2-n       \n",
      "4           SH    1  RET  \n",
      "...        ...  ...  ...  \n",
      "5185        SQ    1       \n",
      "5186        OB    1       \n",
      "5187  See Note    1       \n",
      "5188  See Note    1       \n",
      "5189  See Note    1       \n",
      "\n",
      "[5190 rows x 6 columns]\n"
     ]
    }
   ],
   "source": [
    "import requests\n",
    "from bs4 import BeautifulSoup\n",
    "import pandas as pd\n",
    "\n",
    "# URL of the page containing the table\n",
    "url = 'https://dicom.nema.org/medical/dicom/current/source/docbook/part06/part06.xml'\n",
    "\n",
    "# Fetch the webpage content\n",
    "response = requests.get(url)\n",
    "if response.status_code == 200:\n",
    "    # Parse the HTML content with BeautifulSoup\n",
    "    soup = BeautifulSoup(response.content, 'html.parser')\n",
    "\n",
    "    # Locate the table by its ID\n",
    "    table = soup.find('table', {'frame': 'box', 'rules': 'all'})\n",
    "\n",
    "    # Extract table headers\n",
    "    headers = []\n",
    "    thead = table.find('thead')\n",
    "    for th in thead.find_all('th'):\n",
    "        headers.append(th.get_text(strip=True))\n",
    "\n",
    "    # Extract table rows\n",
    "    rows_data = []\n",
    "    tbody = table.find('tbody')\n",
    "    for row in tbody.find_all('tr'):\n",
    "        cells = row.find_all('td')\n",
    "        row_data = [cell.get_text(strip=True) for cell in cells]\n",
    "        rows_data.append(row_data)\n",
    "\n",
    "    # Convert the data into a pandas DataFrame\n",
    "    df = pd.DataFrame(rows_data, columns=headers)\n",
    "    \n",
    "else:\n",
    "    print(f\"Failed to retrieve page, status code: {response.status_code}\")\n"
   ]
  },
  {
   "cell_type": "code",
   "execution_count": 30,
   "metadata": {},
   "outputs": [
    {
     "data": {
      "text/html": [
       "<div>\n",
       "<style scoped>\n",
       "    .dataframe tbody tr th:only-of-type {\n",
       "        vertical-align: middle;\n",
       "    }\n",
       "\n",
       "    .dataframe tbody tr th {\n",
       "        vertical-align: top;\n",
       "    }\n",
       "\n",
       "    .dataframe thead th {\n",
       "        text-align: right;\n",
       "    }\n",
       "</style>\n",
       "<table border=\"1\" class=\"dataframe\">\n",
       "  <thead>\n",
       "    <tr style=\"text-align: right;\">\n",
       "      <th></th>\n",
       "      <th>Tag</th>\n",
       "      <th>Name</th>\n",
       "      <th>Keyword</th>\n",
       "      <th>VR</th>\n",
       "      <th>VM</th>\n",
       "      <th></th>\n",
       "    </tr>\n",
       "  </thead>\n",
       "  <tbody>\n",
       "    <tr>\n",
       "      <th>0</th>\n",
       "      <td>(0008,0001)</td>\n",
       "      <td>Length to End</td>\n",
       "      <td>Length​To​End</td>\n",
       "      <td>UL</td>\n",
       "      <td>1</td>\n",
       "      <td>RET</td>\n",
       "    </tr>\n",
       "    <tr>\n",
       "      <th>1</th>\n",
       "      <td>(0008,0005)</td>\n",
       "      <td>Specific Character Set</td>\n",
       "      <td>Specific​Character​Set</td>\n",
       "      <td>CS</td>\n",
       "      <td>1-n</td>\n",
       "      <td></td>\n",
       "    </tr>\n",
       "    <tr>\n",
       "      <th>2</th>\n",
       "      <td>(0008,0006)</td>\n",
       "      <td>Language Code Sequence</td>\n",
       "      <td>Language​Code​Sequence</td>\n",
       "      <td>SQ</td>\n",
       "      <td>1</td>\n",
       "      <td></td>\n",
       "    </tr>\n",
       "    <tr>\n",
       "      <th>3</th>\n",
       "      <td>(0008,0008)</td>\n",
       "      <td>Image Type</td>\n",
       "      <td>Image​Type</td>\n",
       "      <td>CS</td>\n",
       "      <td>2-n</td>\n",
       "      <td></td>\n",
       "    </tr>\n",
       "    <tr>\n",
       "      <th>4</th>\n",
       "      <td>(0008,0010)</td>\n",
       "      <td>Recognition Code</td>\n",
       "      <td>Recognition​Code</td>\n",
       "      <td>SH</td>\n",
       "      <td>1</td>\n",
       "      <td>RET</td>\n",
       "    </tr>\n",
       "    <tr>\n",
       "      <th>5</th>\n",
       "      <td>(0008,0012)</td>\n",
       "      <td>Instance Creation Date</td>\n",
       "      <td>Instance​Creation​Date</td>\n",
       "      <td>DA</td>\n",
       "      <td>1</td>\n",
       "      <td></td>\n",
       "    </tr>\n",
       "    <tr>\n",
       "      <th>6</th>\n",
       "      <td>(0008,0013)</td>\n",
       "      <td>Instance Creation Time</td>\n",
       "      <td>Instance​Creation​Time</td>\n",
       "      <td>TM</td>\n",
       "      <td>1</td>\n",
       "      <td></td>\n",
       "    </tr>\n",
       "    <tr>\n",
       "      <th>7</th>\n",
       "      <td>(0008,0014)</td>\n",
       "      <td>Instance Creator UID</td>\n",
       "      <td>Instance​Creator​UID</td>\n",
       "      <td>UI</td>\n",
       "      <td>1</td>\n",
       "      <td></td>\n",
       "    </tr>\n",
       "    <tr>\n",
       "      <th>8</th>\n",
       "      <td>(0008,0015)</td>\n",
       "      <td>Instance Coercion DateTime</td>\n",
       "      <td>Instance​Coercion​Date​Time</td>\n",
       "      <td>DT</td>\n",
       "      <td>1</td>\n",
       "      <td></td>\n",
       "    </tr>\n",
       "    <tr>\n",
       "      <th>9</th>\n",
       "      <td>(0008,0016)</td>\n",
       "      <td>SOP Class UID</td>\n",
       "      <td>SOP​Class​UID</td>\n",
       "      <td>UI</td>\n",
       "      <td>1</td>\n",
       "      <td></td>\n",
       "    </tr>\n",
       "  </tbody>\n",
       "</table>\n",
       "</div>"
      ],
      "text/plain": [
       "           Tag                        Name                      Keyword  VR  \\\n",
       "0  (0008,0001)               Length to End                Length​To​End  UL   \n",
       "1  (0008,0005)      Specific Character Set       Specific​Character​Set  CS   \n",
       "2  (0008,0006)      Language Code Sequence       Language​Code​Sequence  SQ   \n",
       "3  (0008,0008)                  Image Type                   Image​Type  CS   \n",
       "4  (0008,0010)            Recognition Code             Recognition​Code  SH   \n",
       "5  (0008,0012)      Instance Creation Date       Instance​Creation​Date  DA   \n",
       "6  (0008,0013)      Instance Creation Time       Instance​Creation​Time  TM   \n",
       "7  (0008,0014)        Instance Creator UID         Instance​Creator​UID  UI   \n",
       "8  (0008,0015)  Instance Coercion DateTime  Instance​Coercion​Date​Time  DT   \n",
       "9  (0008,0016)               SOP Class UID                SOP​Class​UID  UI   \n",
       "\n",
       "    VM       \n",
       "0    1  RET  \n",
       "1  1-n       \n",
       "2    1       \n",
       "3  2-n       \n",
       "4    1  RET  \n",
       "5    1       \n",
       "6    1       \n",
       "7    1       \n",
       "8    1       \n",
       "9    1       "
      ]
     },
     "execution_count": 30,
     "metadata": {},
     "output_type": "execute_result"
    }
   ],
   "source": [
    "df.head(10)"
   ]
  },
  {
   "cell_type": "markdown",
   "metadata": {},
   "source": [
    "## Option 2. Extract XML file"
   ]
  },
  {
   "cell_type": "code",
   "execution_count": null,
   "metadata": {},
   "outputs": [],
   "source": [
    "import requests\n",
    "import xml.etree.ElementTree as ET\n",
    "\n",
    "# URI for DICOM Standard Part 6\n",
    "xml_uri = 'https://dicom.nema.org/medical/dicom/current/source/docbook/part06/part06.xml'\n",
    "\n",
    "# Parse the XML content\n",
    "response = requests.get(xml_uri)\n",
    "root = ET.fromstring(response.content)\n",
    "\n",
    "# Find the child node with label=\"6\"\n",
    "for child in root:\n",
    "    if child.attrib.get('label') == '6':\n",
    "        selected_node = child\n",
    "        break"
   ]
  },
  {
   "cell_type": "code",
   "execution_count": null,
   "metadata": {},
   "outputs": [],
   "source": [
    "import pandas as pd\n",
    "from collections import defaultdict\n",
    "    \n",
    "# Get table 1 from Chapter 6\n",
    "if selected_node is not None:\n",
    "    grandchild_table = selected_node.find('.//{http://docbook.org/ns/docbook}table')\n",
    "    if grandchild_table is not None:\n",
    "        thead = grandchild_table.find('.//{http://docbook.org/ns/docbook}thead')\n",
    "        tbody = grandchild_table.find('.//{http://docbook.org/ns/docbook}tbody')\n",
    "\n",
    "        # Store column names\n",
    "        column_names = []\n",
    "        if thead is not None:\n",
    "            for tr in thead.findall('.//{http://docbook.org/ns/docbook}tr'):\n",
    "                thead_names = tr.findall('.//{http://docbook.org/ns/docbook}emphasis')\n",
    "                if thead_names is not None:\n",
    "                    for name in thead_names:\n",
    "                        column_names.append(name.text.strip())\n",
    "\n",
    "            # Store row values\n",
    "            rows = tbody.findall('.//{http://docbook.org/ns/docbook}tr')\n",
    "            rows_data = []\n",
    "\n",
    "            # Loop through tbody to extract values\n",
    "            for tr in rows:\n",
    "                row_values = defaultdict(lambda: None)\n",
    "                idx = 0\n",
    "                for para in tr.findall('.//{http://docbook.org/ns/docbook}para'):\n",
    "                    emphasis = para.find('.//{http://docbook.org/ns/docbook}emphasis')\n",
    "                    if emphasis is not None and emphasis.text is not None:\n",
    "                        row_values[column_names[idx]] = emphasis.text.strip()\n",
    "                        idx += 1\n",
    "                        if idx >= len(column_names):\n",
    "                            break\n",
    "                    else:\n",
    "                        if para is not None and para.text is not None:\n",
    "                            row_values[column_names[idx]] = para.text.strip()\n",
    "                            idx += 1\n",
    "                            if idx >= len(column_names):\n",
    "                                break\n",
    "\n",
    "                # Append to the table only if it has more than 3 values\n",
    "                if sum(1 for value in row_values.values() if value is not None) > 3:\n",
    "                    rows_data.append(row_values)\n",
    "\n",
    "            # Save the output as a DataFrame\n",
    "            df = pd.DataFrame(rows_data, columns=column_names)\n",
    "else:\n",
    "    print(\"Node with label='6' not found.\")\n"
   ]
  },
  {
   "cell_type": "markdown",
   "metadata": {},
   "source": [
    "## Explore the extracted table"
   ]
  },
  {
   "cell_type": "code",
   "execution_count": 4,
   "metadata": {},
   "outputs": [
    {
     "data": {
      "text/html": [
       "<div>\n",
       "<style scoped>\n",
       "    .dataframe tbody tr th:only-of-type {\n",
       "        vertical-align: middle;\n",
       "    }\n",
       "\n",
       "    .dataframe tbody tr th {\n",
       "        vertical-align: top;\n",
       "    }\n",
       "\n",
       "    .dataframe thead th {\n",
       "        text-align: right;\n",
       "    }\n",
       "</style>\n",
       "<table border=\"1\" class=\"dataframe\">\n",
       "  <thead>\n",
       "    <tr style=\"text-align: right;\">\n",
       "      <th></th>\n",
       "      <th>Tag</th>\n",
       "      <th>Name</th>\n",
       "      <th>Keyword</th>\n",
       "      <th>VR</th>\n",
       "      <th>VM</th>\n",
       "    </tr>\n",
       "  </thead>\n",
       "  <tbody>\n",
       "    <tr>\n",
       "      <th>0</th>\n",
       "      <td>(0008,0001)</td>\n",
       "      <td>Length to End</td>\n",
       "      <td>Length​To​End</td>\n",
       "      <td>UL</td>\n",
       "      <td>1</td>\n",
       "    </tr>\n",
       "    <tr>\n",
       "      <th>1</th>\n",
       "      <td>(0008,0005)</td>\n",
       "      <td>Specific Character Set</td>\n",
       "      <td>Specific​Character​Set</td>\n",
       "      <td>CS</td>\n",
       "      <td>1-n</td>\n",
       "    </tr>\n",
       "    <tr>\n",
       "      <th>2</th>\n",
       "      <td>(0008,0006)</td>\n",
       "      <td>Language Code Sequence</td>\n",
       "      <td>Language​Code​Sequence</td>\n",
       "      <td>SQ</td>\n",
       "      <td>1</td>\n",
       "    </tr>\n",
       "    <tr>\n",
       "      <th>3</th>\n",
       "      <td>(0008,0008)</td>\n",
       "      <td>Image Type</td>\n",
       "      <td>Image​Type</td>\n",
       "      <td>CS</td>\n",
       "      <td>2-n</td>\n",
       "    </tr>\n",
       "    <tr>\n",
       "      <th>4</th>\n",
       "      <td>(0008,0010)</td>\n",
       "      <td>Recognition Code</td>\n",
       "      <td>Recognition​Code</td>\n",
       "      <td>SH</td>\n",
       "      <td>1</td>\n",
       "    </tr>\n",
       "  </tbody>\n",
       "</table>\n",
       "</div>"
      ],
      "text/plain": [
       "           Tag                    Name                 Keyword  VR   VM\n",
       "0  (0008,0001)           Length to End           Length​To​End  UL    1\n",
       "1  (0008,0005)  Specific Character Set  Specific​Character​Set  CS  1-n\n",
       "2  (0008,0006)  Language Code Sequence  Language​Code​Sequence  SQ    1\n",
       "3  (0008,0008)              Image Type              Image​Type  CS  2-n\n",
       "4  (0008,0010)        Recognition Code        Recognition​Code  SH    1"
      ]
     },
     "execution_count": 4,
     "metadata": {},
     "output_type": "execute_result"
    }
   ],
   "source": [
    "df.head(5)"
   ]
  },
  {
   "cell_type": "code",
   "execution_count": 31,
   "metadata": {},
   "outputs": [
    {
     "data": {
      "text/plain": [
       "(5190, 6)"
      ]
     },
     "execution_count": 31,
     "metadata": {},
     "output_type": "execute_result"
    }
   ],
   "source": [
    "df.shape #(5085, 5) -> 5190 # increased"
   ]
  },
  {
   "cell_type": "code",
   "execution_count": 39,
   "metadata": {},
   "outputs": [
    {
     "data": {
      "text/plain": [
       "VR\n",
       "CS    820\n",
       "DS    526\n",
       "US    379\n",
       "FD    310\n",
       "FL    293\n",
       "IS    239\n",
       "UL     79\n",
       "DT     64\n",
       "DA     61\n",
       "TM     55\n",
       "AT     24\n",
       "SS     18\n",
       "SL     15\n",
       "UV      7\n",
       "SV      1\n",
       "Name: count, dtype: int64"
      ]
     },
     "execution_count": 39,
     "metadata": {},
     "output_type": "execute_result"
    }
   ],
   "source": [
    "included_VR = ['AT', 'CS', 'DA', 'DT', 'DS', 'FL', 'FD', 'IS', 'SL', 'SS', 'SV', 'TM', 'UL', 'US', 'UV']\n",
    "df[df['VR'].isin(included_VR)].VR.value_counts()"
   ]
  },
  {
   "cell_type": "code",
   "execution_count": 40,
   "metadata": {},
   "outputs": [
    {
     "data": {
      "text/plain": [
       "(2891, 7)"
      ]
     },
     "execution_count": 40,
     "metadata": {},
     "output_type": "execute_result"
    }
   ],
   "source": [
    "df[df['VR'].isin(included_VR)].shape"
   ]
  },
  {
   "cell_type": "code",
   "execution_count": 33,
   "metadata": {},
   "outputs": [
    {
     "data": {
      "text/html": [
       "<div>\n",
       "<style scoped>\n",
       "    .dataframe tbody tr th:only-of-type {\n",
       "        vertical-align: middle;\n",
       "    }\n",
       "\n",
       "    .dataframe tbody tr th {\n",
       "        vertical-align: top;\n",
       "    }\n",
       "\n",
       "    .dataframe thead th {\n",
       "        text-align: right;\n",
       "    }\n",
       "</style>\n",
       "<table border=\"1\" class=\"dataframe\">\n",
       "  <thead>\n",
       "    <tr style=\"text-align: right;\">\n",
       "      <th></th>\n",
       "      <th>Tag</th>\n",
       "      <th>Name</th>\n",
       "      <th>Keyword</th>\n",
       "      <th>VR</th>\n",
       "      <th>VM</th>\n",
       "      <th></th>\n",
       "      <th>Tag_cleaned</th>\n",
       "    </tr>\n",
       "  </thead>\n",
       "  <tbody>\n",
       "    <tr>\n",
       "      <th>0</th>\n",
       "      <td>(0008,0001)</td>\n",
       "      <td>Length to End</td>\n",
       "      <td>Length​To​End</td>\n",
       "      <td>UL</td>\n",
       "      <td>1</td>\n",
       "      <td>RET</td>\n",
       "      <td>00080001</td>\n",
       "    </tr>\n",
       "    <tr>\n",
       "      <th>1</th>\n",
       "      <td>(0008,0005)</td>\n",
       "      <td>Specific Character Set</td>\n",
       "      <td>Specific​Character​Set</td>\n",
       "      <td>CS</td>\n",
       "      <td>1-n</td>\n",
       "      <td></td>\n",
       "      <td>00080005</td>\n",
       "    </tr>\n",
       "    <tr>\n",
       "      <th>2</th>\n",
       "      <td>(0008,0006)</td>\n",
       "      <td>Language Code Sequence</td>\n",
       "      <td>Language​Code​Sequence</td>\n",
       "      <td>SQ</td>\n",
       "      <td>1</td>\n",
       "      <td></td>\n",
       "      <td>00080006</td>\n",
       "    </tr>\n",
       "    <tr>\n",
       "      <th>3</th>\n",
       "      <td>(0008,0008)</td>\n",
       "      <td>Image Type</td>\n",
       "      <td>Image​Type</td>\n",
       "      <td>CS</td>\n",
       "      <td>2-n</td>\n",
       "      <td></td>\n",
       "      <td>00080008</td>\n",
       "    </tr>\n",
       "    <tr>\n",
       "      <th>4</th>\n",
       "      <td>(0008,0010)</td>\n",
       "      <td>Recognition Code</td>\n",
       "      <td>Recognition​Code</td>\n",
       "      <td>SH</td>\n",
       "      <td>1</td>\n",
       "      <td>RET</td>\n",
       "      <td>00080010</td>\n",
       "    </tr>\n",
       "  </tbody>\n",
       "</table>\n",
       "</div>"
      ],
      "text/plain": [
       "           Tag                    Name                 Keyword  VR   VM       \\\n",
       "0  (0008,0001)           Length to End           Length​To​End  UL    1  RET   \n",
       "1  (0008,0005)  Specific Character Set  Specific​Character​Set  CS  1-n        \n",
       "2  (0008,0006)  Language Code Sequence  Language​Code​Sequence  SQ    1        \n",
       "3  (0008,0008)              Image Type              Image​Type  CS  2-n        \n",
       "4  (0008,0010)        Recognition Code        Recognition​Code  SH    1  RET   \n",
       "\n",
       "  Tag_cleaned  \n",
       "0    00080001  \n",
       "1    00080005  \n",
       "2    00080006  \n",
       "3    00080008  \n",
       "4    00080010  "
      ]
     },
     "execution_count": 33,
     "metadata": {},
     "output_type": "execute_result"
    }
   ],
   "source": [
    "df['Tag_cleaned'] = df['Tag'].str.replace(r'[(),]', '', regex = True)\n",
    "df.head()"
   ]
  },
  {
   "cell_type": "code",
   "execution_count": 42,
   "metadata": {},
   "outputs": [
    {
     "data": {
      "text/html": [
       "<div>\n",
       "<style scoped>\n",
       "    .dataframe tbody tr th:only-of-type {\n",
       "        vertical-align: middle;\n",
       "    }\n",
       "\n",
       "    .dataframe tbody tr th {\n",
       "        vertical-align: top;\n",
       "    }\n",
       "\n",
       "    .dataframe thead th {\n",
       "        text-align: right;\n",
       "    }\n",
       "</style>\n",
       "<table border=\"1\" class=\"dataframe\">\n",
       "  <thead>\n",
       "    <tr style=\"text-align: right;\">\n",
       "      <th></th>\n",
       "      <th>Tag</th>\n",
       "      <th>Name</th>\n",
       "      <th>Keyword</th>\n",
       "      <th>VR</th>\n",
       "      <th>VM</th>\n",
       "      <th></th>\n",
       "      <th>Tag_cleaned</th>\n",
       "    </tr>\n",
       "  </thead>\n",
       "  <tbody>\n",
       "    <tr>\n",
       "      <th>3</th>\n",
       "      <td>(0008,0008)</td>\n",
       "      <td>Image Type</td>\n",
       "      <td>Image​Type</td>\n",
       "      <td>CS</td>\n",
       "      <td>2-n</td>\n",
       "      <td></td>\n",
       "      <td>00080008</td>\n",
       "    </tr>\n",
       "  </tbody>\n",
       "</table>\n",
       "</div>"
      ],
      "text/plain": [
       "           Tag        Name     Keyword  VR   VM   Tag_cleaned\n",
       "3  (0008,0008)  Image Type  Image​Type  CS  2-n      00080008"
      ]
     },
     "execution_count": 42,
     "metadata": {},
     "output_type": "execute_result"
    }
   ],
   "source": [
    "df[df['Tag_cleaned']==\"00080008\"]"
   ]
  },
  {
   "cell_type": "code",
   "execution_count": 43,
   "metadata": {},
   "outputs": [
    {
     "data": {
      "text/plain": [
       "40"
      ]
     },
     "execution_count": 43,
     "metadata": {},
     "output_type": "execute_result"
    }
   ],
   "source": [
    "df['VR'].nunique()"
   ]
  },
  {
   "cell_type": "code",
   "execution_count": 37,
   "metadata": {},
   "outputs": [],
   "source": [
    "df.to_csv('./files/DICOM Standard/part6_attributes.csv', index=False)"
   ]
  }
 ],
 "metadata": {
  "kernelspec": {
   "display_name": "Python 3",
   "language": "python",
   "name": "python3"
  },
  "language_info": {
   "codemirror_mode": {
    "name": "ipython",
    "version": 3
   },
   "file_extension": ".py",
   "mimetype": "text/x-python",
   "name": "python",
   "nbconvert_exporter": "python",
   "pygments_lexer": "ipython3",
   "version": "3.9.6"
  },
  "orig_nbformat": 4,
  "vscode": {
   "interpreter": {
    "hash": "d75886a766ecf1d67c0d1c554768ab55e9651a780e97b507eb22163b83a149f8"
   }
  }
 },
 "nbformat": 4,
 "nbformat_minor": 2
}
