{
 "cells": [
  {
   "cell_type": "markdown",
   "metadata": {},
   "source": [
    "# Part II: Transform Imaging Data into OMOP CDM\n",
    "\n",
    "### Prerequisites\n",
    "* Download ODBC Driver 18 from web <https://learn.microsoft.com/en-us/sql/connect/odbc/linux-mac/install-microsoft-odbc-driver-sql-server-macos?view=sql-server-ver16>\n",
    "* OMOP CDM instance with the connection string and authentication information. If your database access limits IP addresses, make sure to add your IP address before running the connection strings.\n",
    "* Install SQL processing package, i.e., pyodbc.\n",
    "* Files or database that non-image data is stored: demographic, clinical assessments, labs, visits, etc.\n",
    "* Locate your imaging files: local paths, cloud storage services (e.g., Microsoft Azure)"
   ]
  },
  {
   "cell_type": "code",
   "execution_count": null,
   "metadata": {},
   "outputs": [],
   "source": [
    "import requests\n",
    "import pandas as pd\n",
    "import pydicom\n",
    "from pathlib import Path\n",
    "from urllib3.filepost import encode_multipart_formdata, choose_boundary\n",
    "from azure.identity import DefaultAzureCredential"
   ]
  },
  {
   "cell_type": "code",
   "execution_count": null,
   "metadata": {},
   "outputs": [],
   "source": [
    "!pip install azure-cli"
   ]
  },
  {
   "cell_type": "code",
   "execution_count": null,
   "metadata": {},
   "outputs": [],
   "source": [
    "!az login"
   ]
  },
  {
   "cell_type": "code",
   "execution_count": null,
   "metadata": {},
   "outputs": [],
   "source": [
    "# Run the az command and capture its output\n",
    "captured_output = !az account get-access-token --resource https://dicom.healthcareapis.azure.com --query accessToken --output tsv\n",
    "\n",
    "# The output is a special IPython.utils.text.SList object which behaves like a list.\n",
    "# If the command outputs a single line (like an access token), it will be the first element.\n",
    "bearer_token = captured_output[2].strip()"
   ]
  },
  {
   "cell_type": "code",
   "execution_count": null,
   "metadata": {},
   "outputs": [],
   "source": [
    "# check connection\n",
    "base_dicomweb_url = 'https://imgextpoc-adnidicom.dicom.azurehealthcareapis.com/v2'\n",
    "\n",
    "headers = {\n",
    "    'Accept': \"application/json\",\n",
    "    'Authorization': 'Bearer ' + bearer_token\n",
    "    }\n",
    "dicomweb_study_query_url =  base_dicomweb_url + '/studies/'\n",
    "response = requests.request(\"GET\", dicomweb_study_query_url, data=\"\", headers=headers)\n",
    "response"
   ]
  },
  {
   "cell_type": "code",
   "execution_count": null,
   "metadata": {},
   "outputs": [],
   "source": [
    "# Extract images from DICOM server with default setting (return 100 studies)\n",
    "def list_series_study_uids(base_url, headers):\n",
    "    series_study_data = []\n",
    "\n",
    "    # Endpoint for fetching a list of studies; this might need to be adjusted based on your server's API\n",
    "    studies_url = f\"{base_url}/studies\"\n",
    "\n",
    "    # Fetch the list of studies\n",
    "    studies_response = requests.get(studies_url, headers=headers)\n",
    "    if studies_response.status_code == 200:\n",
    "        studies = studies_response.json()\n",
    "\n",
    "        # Loop through each study and fetch series within it\n",
    "        for study in studies:\n",
    "            study_uid = study['0020000D']['Value'][0]  # Adjust based on actual response format\n",
    "\n",
    "            # Endpoint for fetching series within a study; adjust as needed\n",
    "            series_url = f\"{base_url}/studies/{study_uid}/series\"\n",
    "            \n",
    "            # Fetch the list of series in the current study\n",
    "            series_response = requests.get(series_url, headers=headers)\n",
    "            if series_response.status_code == 200:\n",
    "                series_list = series_response.json()\n",
    "\n",
    "                # Extract the Series Instance UID from each series and add to the list\n",
    "                for series in series_list:\n",
    "                    series_uid = series['0020000E']['Value'][0]  # Adjust based on actual response format\n",
    "                    series_study_data.append({\"StudyUID\": study_uid, \"SeriesUID\": series_uid})\n",
    "\n",
    "    # Convert the list of records to a DataFrame\n",
    "    return pd.DataFrame(series_study_data)"
   ]
  },
  {
   "cell_type": "code",
   "execution_count": null,
   "metadata": {},
   "outputs": [],
   "source": [
    "def fetch_all_series_metadata(base_url, headers, series_study_df):\n",
    "    series_metadata = []\n",
    "\n",
    "    for index, row in series_study_df.iterrows():\n",
    "        study_uid = row['StudyUID']\n",
    "        series_uid = row['SeriesUID']\n",
    "\n",
    "        # Proper URI to fetch series metadata\n",
    "        metadata_url = f\"{base_url}/studies/{study_uid}/series/{series_uid}/metadata\"\n",
    "\n",
    "        # Fetch metadata for the series\n",
    "        response = requests.get(metadata_url, headers=headers)\n",
    "        if response.status_code == 200:\n",
    "            try:\n",
    "                metadata = response.json()\n",
    "                series_metadata.append(metadata)\n",
    "            except ValueError:  # Includes JSONDecodeError\n",
    "                print(f\"Invalid JSON response for URL: {metadata_url}\")\n",
    "        else:\n",
    "            print(f\"Failed to fetch metadata for URL: {metadata_url}. Status code: {response.status_code}\")\n",
    "\n",
    "    return series_metadata"
   ]
  },
  {
   "cell_type": "code",
   "execution_count": null,
   "metadata": {},
   "outputs": [],
   "source": [
    "def metadata_to_df(series_metadata, selected_attributes):\n",
    "    data = []\n",
    "\n",
    "    for series in series_metadata:\n",
    "        for item in series:  # Assuming 'series_metadata' is a list of lists or similar\n",
    "            study_uid = item.get(\"0020000D\", {}).get(\"Value\", [\"\"])[0]\n",
    "            series_uid = item.get(\"0020000E\", {}).get(\"Value\", [\"\"])[0]\n",
    "            uid = f\"study/{study_uid}/series/{series_uid}\"\n",
    "\n",
    "            # Iterate over each attribute in the item\n",
    "            for tag, element in item.items():\n",
    "                # Convert the tag to the desired format (e.g., '00080020' from '(0008,0020)')\n",
    "                formatted_tag = tag.replace('(', '').replace(')', '').replace(',', '')\n",
    "\n",
    "                # Check if the formatted tag is in the list of selected attributes\n",
    "                if formatted_tag in selected_attributes:\n",
    "                    # Extract the value of the attribute\n",
    "                    value = element.get(\"Value\", [\"\"])[0]  # Simplification, might need adjustment\n",
    "\n",
    "                    # Add the UID, attribute tag, and value to the data list\n",
    "                    data.append({\n",
    "                        \"UID\": uid,\n",
    "                        \"Attribute Tag\": formatted_tag,\n",
    "                        \"Value\": value\n",
    "                    })\n",
    "\n",
    "    # Convert the list of records to a DataFrame\n",
    "    return pd.DataFrame(data)"
   ]
  },
  {
   "cell_type": "code",
   "execution_count": null,
   "metadata": {},
   "outputs": [],
   "source": [
    "headers = {\n",
    "    'Authorization': 'Bearer ' + bearer_token,\n",
    "    'Accept': 'application/dicom+json'\n",
    "}\n",
    "base_dicomweb_url = 'https://imgextpoc-adnidicom.dicom.azurehealthcareapis.com/v2'\n",
    "\n",
    "series_study_df = list_series_study_uids(base_dicomweb_url, headers)"
   ]
  },
  {
   "cell_type": "code",
   "execution_count": null,
   "metadata": {},
   "outputs": [],
   "source": [
    "print(series_study_df.shape)\n",
    "print(series_study_df.StudyUID.nunique(), series_study_df.SeriesUID.nunique())"
   ]
  },
  {
   "cell_type": "code",
   "execution_count": null,
   "metadata": {},
   "outputs": [],
   "source": [
    "series_metadata = fetch_all_series_metadata(base_dicomweb_url, headers, series_study_df)\n",
    "series_metadata.head()"
   ]
  },
  {
   "cell_type": "markdown",
   "metadata": {},
   "source": [
    "## Update Procedure_occurrence table\n",
    "\n",
    "Required Fields: person_id, procedure_occurrence_id (PK), procedure_date, procedure_concept_id, procedure_type_concept_id\n",
    "* Use patient ID (00100020) to get PTID then use registry_idmap to find the matching person_id\n",
    "* Convert StudyDate (00080020) to procedure_date\n",
    "* Study Description (00081030) to procedure_concept_id through Athena lookup - 36713262 (Brain MR)\n",
    "* procedure_type_concept_id = 32817 - EHR\n",
    "* Use Series UID to create procedure_occurrence_id"
   ]
  },
  {
   "cell_type": "code",
   "execution_count": null,
   "metadata": {},
   "outputs": [],
   "source": [
    "# Extract information from metadata\n",
    "def fetch_patient_details(base_url, headers):\n",
    "    patient_data = []\n",
    "\n",
    "    # Endpoint for fetching a list of studies; this might need to be adjusted based on your server's API\n",
    "    studies_url = f\"{base_url}/studies\"\n",
    "\n",
    "    # Fetch the list of studies\n",
    "    studies_response = requests.get(studies_url, headers=headers)\n",
    "    if studies_response.status_code == 200:\n",
    "        studies = studies_response.json()\n",
    "\n",
    "        # Loop through each study and fetch metadata\n",
    "        for study in studies:\n",
    "            study_uid = study['0020000D']['Value'][0]  # Adjust based on actual response format\n",
    "\n",
    "            # Endpoint for fetching metadata of a study; adjust as needed\n",
    "            metadata_url = f\"{base_url}/studies/{study_uid}/metadata\"\n",
    "\n",
    "            # Fetch metadata for the current study\n",
    "            metadata_response = requests.get(metadata_url, headers=headers)\n",
    "            if metadata_response.status_code == 200:\n",
    "                metadata = metadata_response.json()\n",
    "\n",
    "                # Extract Patient ID, Gender, and Birth Date from the study metadata\n",
    "                patient_id = metadata[0].get('00100020', {}).get('Value', [None])[0]\n",
    "                study_description = metadata[0].get('00081030', {}).get('Value', [None])[0]\n",
    "                study_date = metadata[0].get('00080020', {}).get('Value', [None])[0]\n",
    "\n",
    "                patient_data.append({\n",
    "                    \"StudyUID\": study_uid,\n",
    "                    \"PatientID\": patient_id,\n",
    "                    \"Study_Description\": study_description,\n",
    "                    \"StudyDate\": study_date\n",
    "                })\n",
    "\n",
    "    # Convert the list of records to a DataFrame\n",
    "    return pd.DataFrame(patient_data)"
   ]
  },
  {
   "cell_type": "code",
   "execution_count": null,
   "metadata": {},
   "outputs": [],
   "source": [
    "# !!! redact before publishing !!!\n",
    "\n",
    "# Create database connection\n",
    "import pyodbc\n",
    "\n",
    "driver = '{ODBC Driver 18 for SQL Server}'\n",
    "server = 'tcp:ohdsicdm.database.windows.net'\n",
    "database = 'ohdsicdm'\n",
    "username = '<username>'\n",
    "password = '<password>'\n",
    "\n",
    "conn_str = f'DRIVER={driver};SERVER={server};DATABASE={database};UID={username};PWD={password}'\n",
    "conn = pyodbc.connect(conn_str)\n",
    "cursor = conn.cursor()"
   ]
  },
  {
   "cell_type": "code",
   "execution_count": null,
   "metadata": {},
   "outputs": [],
   "source": [
    "# Update PROCERURE_OCCURRENCE\n",
    "sql = '''\n",
    "    INSERT INTO dbo.procedure_occurrence (procedure_occurrence_id, person_id, procedure_concept_id, procedure_date, procedure_type_concept_id) \n",
    "    VALUES (?,?,?,?,?)\n",
    "    '''\n",
    "for index, row in patient_details_df.iterrows():\n",
    "    cursor.execute(sql, row['procedure_occurrence_id'], row['person_id'], row['procedure_concept_id'], row['procedure_date'], row['procedure_type_concept_id'])\n",
    "\n",
    "conn.commit()"
   ]
  },
  {
   "cell_type": "markdown",
   "metadata": {},
   "source": [
    "## Update Image_occurrence table\n",
    "\n",
    "* PK, FK: image_occurrence_id, person_id, procedure_occurrence_id, visit_occurrence_id, \n",
    "* Concept IDs: anatomic_site_concept_id (0018,0015) - snomed, modality_concept_id (0008,0060)\n",
    "* wadors_uri, local_path (NA), image_occurrence_date (0008,0022), image_study_UID (0020,000D), series_UID (0020,0010)"
   ]
  },
  {
   "cell_type": "code",
   "execution_count": null,
   "metadata": {},
   "outputs": [],
   "source": [
    "image_occurrence_staging = series_attributes[[\"Study_UID\", \"Series_UID\"]].drop_duplicates()\n",
    "image_occurrence_staging"
   ]
  },
  {
   "cell_type": "code",
   "execution_count": null,
   "metadata": {},
   "outputs": [],
   "source": [
    "image_occurrence_staging = image_occurrence_staging.merge(patient_details_df[[\"StudyUID\", \"person_id\", \"procedure_date\", \"procedure_occurrence_id\"]], left_on= \"study_uid\", right_on = 'StudyUID', how = 'left')\n",
    "\n",
    "# Image occurrence ID\n",
    "image_occurrence_staging['image_occurrence_id'], _ = pd.factorize(image_occurrence_staging['series_uid'])\n",
    "image_occurrence_staging['image_occurrence_id'] = image_occurrence_staging['image_occurrence_id'] + 1 \n",
    "\n",
    "# WADORS-URI\n",
    "base_dicom_uri = 'https://imgextpoc-adnidicom.dicom.azurehealthcareapis.com/v2'\n",
    "image_occurrence_staging['wadors_uri'] = base_dicom_uri + '/studies/' + image_occurrence_staging['study_uid'] + '/series/' + image_occurrence_staging['series_uid']\n",
    "\n",
    "# Others\n",
    "image_occurrence_staging['anatomic_site_concept_id'] = 4119359\n",
    "image_occurrence_staging['modality_concept_id'] = 4013636\n",
    "\n",
    "image_occurrence_staging"
   ]
  },
  {
   "cell_type": "code",
   "execution_count": null,
   "metadata": {},
   "outputs": [],
   "source": [
    "# Update IMAGE_OCCURRENCE\n",
    "sql = '''\n",
    "    INSERT INTO dbo.image_occurrence (image_occurrence_id, person_id, procedure_occurrence_id, anatomic_site_concept_id, wadors_uri, image_occurrence_date, image_study_uid, image_series_uid, modality_concept_id) \n",
    "    VALUES (?,?,?,?,?,?,?,?,?)\n",
    "    '''\n",
    "for index, row in image_occurrence_staging.iterrows():\n",
    "    cursor.execute(sql, row['image_occurrence_id'], row['person_id'], row['procedure_occurrence_id'],  row['anatomic_site_concept_id'], row['wadors_uri'], row['procedure_date'],\n",
    "                    row['study_uid'], row['series_uid'], row['modality_concept_id'])\n",
    "\n",
    "conn.commit()"
   ]
  },
  {
   "cell_type": "markdown",
   "metadata": {},
   "source": [
    "## Update Measurement table\n",
    "\n",
    "* Numeric and non-numeric values have different fields\n",
    "* One Image_feature row has one Measurement row.\n",
    "* Create one stage table for Measurement and Image_feature input data.\n",
    "* Required fields: measurement_id, person_id, measurement_concept_id, measurement_date, measurement_type_concept_id, value_as_number, measurement_source_value "
   ]
  },
  {
   "cell_type": "markdown",
   "metadata": {},
   "source": [
    "## Update Image_feature table\n",
    "\n",
    "* PK, FK: image_feature_id, person_id, image_occurrence_id, image_feature_event_id\n",
    "* Clinical domain: image_feature_event_field_concept_id (1147330 = measurement table)\n",
    "* image_feature_concept_id: matching tags from the staging table \n",
    "* image_feature_type_concept_id: acquisition parameter (add a new concept id? can I use the concept class id?)\n",
    "* anatomic_site_concept_id: for acquisition parameter, same as (0018,0015) - snomed"
   ]
  },
  {
   "cell_type": "code",
   "execution_count": null,
   "metadata": {},
   "outputs": [],
   "source": []
  }
 ],
 "metadata": {
  "kernelspec": {
   "display_name": "Python 3",
   "language": "python",
   "name": "python3"
  },
  "language_info": {
   "name": "python",
   "version": "3.9.6"
  }
 },
 "nbformat": 4,
 "nbformat_minor": 2
}
