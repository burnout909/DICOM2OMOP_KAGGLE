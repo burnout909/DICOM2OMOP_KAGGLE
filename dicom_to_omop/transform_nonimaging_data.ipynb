{
 "cells": [
  {
   "cell_type": "markdown",
   "metadata": {},
   "source": [
    "# Part II: Transform Non-Image Data into OMOP CDM\n",
    "\n",
    "This part can be skipped if your non-imaging data already exist in OMOP CDM. In this case, you would need to go to the `Part II: Tranform Image Data` notebook.\n",
    "\n",
    "### Prerequisites\n",
    "* Download ODBC Driver 18 from web <https://learn.microsoft.com/en-us/sql/connect/odbc/linux-mac/install-microsoft-odbc-driver-sql-server-macos?view=sql-server-ver16>\n",
    "* OMOP CDM instance with the connection string and authentication information. If your database access limits IP addresses, make sure to add your IP address before running the connection strings.\n",
    "* Install SQL processing package, i.e., pyodbc.\n",
    "* Files or database that non-image data is stored: demographic, clinical assessments, labs, visits, etc."
   ]
  },
  {
   "cell_type": "code",
   "execution_count": null,
   "metadata": {},
   "outputs": [],
   "source": [
    "# !!! redact before publishing !!!\n",
    "\n",
    "# Create database connection\n",
    "import pyodbc\n",
    "\n",
    "driver = '{ODBC Driver 18 for SQL Server}'\n",
    "server = 'tcp:ohdsicdm.database.windows.net'\n",
    "database = 'ohdsicdm'\n",
    "username = '<username>'\n",
    "password = '<password>'\n",
    "\n",
    "conn_str = f'DRIVER={driver};SERVER={server};DATABASE={database};UID={username};PWD={password}'\n",
    "conn = pyodbc.connect(conn_str)\n",
    "cursor = conn.cursor()"
   ]
  },
  {
   "cell_type": "markdown",
   "metadata": {},
   "source": [
    "### Patient demographic data\n",
    "- Downloaded from ADNI demographic file () and saved in my local folder.\n",
    "- This will be transformed and loaded to Person table"
   ]
  },
  {
   "cell_type": "code",
   "execution_count": null,
   "metadata": {},
   "outputs": [],
   "source": [
    "import pandas as pd\n",
    "# Load the file\n",
    "patient_demo = pd.read_csv('./files/PTDEMOG_28Mar2024.csv')\n",
    "# Subbset required fields from the file\n",
    "patient_demo_staging = patient_demo[['PTID', 'PTGENDER', 'PTDOB', 'PTDOBYY', 'PTRACCAT', 'PTETHCAT']].copy() "
   ]
  },
  {
   "cell_type": "code",
   "execution_count": null,
   "metadata": {},
   "outputs": [],
   "source": [
    "# Standard omop gender concepts includes female/male\n",
    "patient_demo_staging = patient_demo_staging[patient_demo_staging['PTGENDER'].isin([1,2])]\n",
    "\n",
    "# Assign an integer value for each unique PatientID\n",
    "patient_demo_staging['person_id'], _ = pd.factorize(patient_demo_staging['PTID'])\n",
    "patient_demo_staging['person_id'] = patient_demo_staging['person_id'] + 1 \n",
    "\n",
    "# Codify Gender - replace 'F' with 8532 and 'M' with 8507\n",
    "gender_codification = {2: 8532, 1: 8507}\n",
    "patient_demo_staging['gender_concept_id'] = patient_demo_staging['PTGENDER'].replace(gender_codification)\n",
    "\n",
    "# birth year and month\n",
    "patient_demo_staging['year_of_birth'] = patient_demo_staging['PTDOBYY']\n",
    "patient_demo_staging['month_of_birth'] = patient_demo_staging['PTDOB'].str.slice(0,2).astype(int)\n",
    "\n",
    "# race category\n",
    "race_codification = {1:8657, 2:8515, 3: 8557, 4:8516, 5:8527}\n",
    "patient_demo_staging['race_concept_id'] = patient_demo_staging['PTRACCAT'].map(lambda x: race_codification.get(x, 0)).astype(int)\n",
    "\n",
    "# ethnicity\n",
    "ethnicity_codification = {1:38003563, 2:38003564}\n",
    "patient_demo_staging['ethnicity_concept_id'] = patient_demo_staging['PTETHCAT'].map(lambda x: ethnicity_codification.get(x, 0)).astype(int)\n",
    "\n",
    "# drop duplicate if applicable\n",
    "patient_demo_staging = patient_demo_staging.drop_duplicates(subset='PTID', keep = 'first')\n",
    "\n",
    "# source name\n",
    "patient_demo_staging['source'] = 'ADNI'\n",
    "\n",
    "patient_demo_staging.head()"
   ]
  },
  {
   "cell_type": "code",
   "execution_count": null,
   "metadata": {},
   "outputs": [],
   "source": [
    "# Update PERSON\n",
    "cursor = conn.cursor()\n",
    "\n",
    "# Update PERSON\n",
    "sql = '''\n",
    "    INSERT INTO dbo.person (person_id, gender_concept_id, year_of_birth, month_of_birth, race_concept_id, ethnicity_concept_id, gender_source_value) \n",
    "    VALUES (?,?,?,?,?,?,?)\n",
    "    '''\n",
    "for index, row in patient_demo_staging.iterrows():\n",
    "    cursor.execute(sql, row['person_id'], row['gender_concept_id'], row['year_of_birth'], row['month_of_birth'], row['race_concept_id'], row['ethnicity_concept_id'], row['PTGENDER'])\n",
    "\n",
    "conn.commit()"
   ]
  },
  {
   "cell_type": "code",
   "execution_count": null,
   "metadata": {},
   "outputs": [],
   "source": [
    "# Create registry_idmap table if it doesn't exist and needed\n",
    "# This will keep track of which OMOP Person_id belongs to ADNI PTID\n",
    "\n",
    "ddl_statement = \"\"\"\n",
    "CREATE TABLE dbo.registry_idmap(\n",
    "    source_id varchar(250) NOT NULL,\n",
    "    person_id integer NOT NULL,\n",
    "    source_name varchar(250)\n",
    ");\n",
    "\"\"\"\n",
    "\n",
    "cursor.execute(ddl_statement)\n",
    "conn.commit()\n",
    "\n",
    "sql = '''\n",
    "    INSERT INTO dbo.registry_idmap (source_id, person_id, source_name) \n",
    "    VALUES (?,?,?)\n",
    "    '''\n",
    "for index, row in patient_demo_staging.iterrows():\n",
    "    cursor.execute(sql, row['PTID'], row['person_id'], row['source'])\n",
    "\n",
    "conn.commit()"
   ]
  },
  {
   "cell_type": "code",
   "execution_count": null,
   "metadata": {},
   "outputs": [],
   "source": [
    "# Check the updates\n",
    "sql_query = \"SELECT * FROM registry_idmap\"\n",
    "df_registry_idmap = pd.read_sql_query(sql_query, conn)\n",
    "\n",
    "sql_query = \"SELECT * FROM person\"\n",
    "df_person = pd.read_sql_query(sql_query, conn)\n",
    "\n",
    "cursor.close()\n",
    "conn.close()\n",
    "\n",
    "df_registry_idmap"
   ]
  }
 ],
 "metadata": {
  "kernelspec": {
   "display_name": "Python 3",
   "language": "python",
   "name": "python3"
  },
  "language_info": {
   "codemirror_mode": {
    "name": "ipython",
    "version": 3
   },
   "file_extension": ".py",
   "mimetype": "text/x-python",
   "name": "python",
   "nbconvert_exporter": "python",
   "pygments_lexer": "ipython3",
   "version": "3.9.6"
  }
 },
 "nbformat": 4,
 "nbformat_minor": 2
}
