{
 "cells": [
  {
   "cell_type": "markdown",
   "metadata": {},
   "source": [
    "# DICOM to OMOP: upload the custom vocabularies\n",
    "\n",
    "This notebook demonstrates how you can upload the DICOM custom vocabularies to SQL database. We are using pyodbc, but you can run the SQL section of your code directly your SQL interface. The files can be found under \"files\" folder, and if you want to learn more about how we identified DICOM terminologies for integration, please refer to the \"transform_dicom_to_omop\" notebook.\n",
    "\n",
    "* DDL & DML Scripts using Python & SQL\n",
    "   1. Update `VOCABULARY` table\n",
    "   2. Update `CONCEPT_CLASS` table\n",
    "   3. Update `CONCEPT` table\n",
    "   4. Update `CONCEPT_RELATIONSHIP` table"
   ]
  },
  {
   "cell_type": "code",
   "execution_count": null,
   "metadata": {},
   "outputs": [],
   "source": [
    "# Connect to you database\n",
    "import psycopg2\n",
    "\n",
    "conn = psycopg2.connect(\n",
    "    database=\"\",\n",
    "    user=\"\",\n",
    "    password=\"\",\n",
    "    host=\"\",\n",
    "    port=\"\",\n",
    "    connect_timeout = 6000\n",
    ")\n",
    "\n",
    "cursor = conn.cursor()"
   ]
  },
  {
   "cell_type": "code",
   "execution_count": null,
   "metadata": {},
   "outputs": [],
   "source": [
    "# Update VOCABULARY\n",
    "sql = '''\n",
    "    INSERT INTO dbo.VOCABULARY (vocabulary_id, vocabulary_name, vocabulary_reference, vocabulary_version, vocabulary_concept_id)\n",
    "    VALUES ('DICOM', 'Digital Imaging and Communications in Medicine (National Electrical Manufacturers Association)',  'https://www.dicomstandard.org/current', 'NEMA Standard PS3', 2128000000)\n",
    "    '''\n",
    "cursor.execute(sql)\n",
    "conn.commit()"
   ]
  },
  {
   "cell_type": "code",
   "execution_count": null,
   "metadata": {},
   "outputs": [],
   "source": [
    "# Update CONCEPT_CLASS\n",
    "sql = '''\n",
    "    INSERT INTO CONCEPT_CLASS (concept_class_id, concept_class_name, concept_class_concept_id)\n",
    "    VALUES ('DICOM Attributes', 'DICOM Attributes', 2128000001),\n",
    "           ('DICOM Value Sets', 'DICOM Value Sets', 2128000002)\n",
    "    '''\n",
    "cursor.execute(sql)\n",
    "conn.commit()"
   ]
  },
  {
   "cell_type": "code",
   "execution_count": null,
   "metadata": {},
   "outputs": [],
   "source": [
    "# Import the file that contain DICOM custom concepts\n",
    "import pandas as pd\n",
    "\n",
    "omop_table_staging = pd.read_csv('./files/OMOP CDM Staging/omop_table_staging_v2.csv')"
   ]
  },
  {
   "cell_type": "code",
   "execution_count": null,
   "metadata": {},
   "outputs": [],
   "source": [
    "# Update CONCEPT\n",
    "# Load the file for DICOM attributes and value sets\n",
    "from datetime import datetime\n",
    "\n",
    "sql = '''\n",
    "    INSERT INTO dbo.concept (concept_id, concept_name, domain_id, vocabulary_id, concept_class_id, concept_code, valid_start_date, valid_end_date) \n",
    "    VALUES (%s,%s,%s,%s,%s,%s,%s,%s)\n",
    "    '''\n",
    "for index, row in omop_table_staging.iterrows():\n",
    "    # Convert the valid_start_date and valid_end_date from integer (YYYYMMDD) to date\n",
    "    valid_start_date = datetime.strptime(str(row['valid_start_date']), '%Y%m%d').date() if pd.notnull(row['valid_start_date']) else None\n",
    "    valid_end_date = datetime.strptime(str(row['valid_end_date']), '%Y%m%d').date() if pd.notnull(row['valid_end_date']) else None\n",
    "\n",
    "    cursor.execute(sql, (\n",
    "        row['concept_id'], \n",
    "        row['concept_name'], \n",
    "        row['domain_id'], \n",
    "        row['vocabulary_id'], \n",
    "        row['concept_class_id'], \n",
    "        row['concept_code'], \n",
    "        valid_start_date, \n",
    "        valid_end_date\n",
    "    ))\n",
    "\n",
    "conn.commit()"
   ]
  },
  {
   "cell_type": "code",
   "execution_count": null,
   "metadata": {},
   "outputs": [],
   "source": [
    "# check the upload\n",
    "sql = \"select * from dbo.concept where vocabulary_id = 'DICOM'\"\n",
    "omop_dicom_test = pd.read_sql_query(sql, conn)\n",
    "omop_dicom_test.head()"
   ]
  },
  {
   "cell_type": "code",
   "execution_count": null,
   "metadata": {},
   "outputs": [],
   "source": [
    "# import DICOM concept_relationship source file \n",
    "import pandas as pd\n",
    "\n",
    "# 1. Attributes-CID-ValueSets\n",
    "concept_relationship_staging = pd.read_pickle('./files/OMOP CDM Staging/part3_to_part16_relationship_via_CID.pkl')\n",
    "# 2. Attributes-Code String values\n",
    "cs_values_maps_to_value = pd.read_csv('./files/OMOP CDM Staging/cs_values_maps_to_value.csv')\n",
    "# 3. DICOM Code String to OMOP Standard coding systems\n",
    "cs_values_maps_to = pd.read_csv('./files/OMOP CDM Staging/cs_values_maps_to.csv')"
   ]
  },
  {
   "cell_type": "code",
   "execution_count": null,
   "metadata": {},
   "outputs": [],
   "source": [
    "# Update CONCEPT_RELATIONSHIP\n",
    "from datetime import datetime\n",
    "\n",
    "sql = '''\n",
    "    INSERT INTO dbo.concept_relationship (concept_id_1, concept_id_2, relationship_id, valid_start_date, valid_end_date) \n",
    "    VALUES (%s,%s,%s,%s,%s)\n",
    "    '''\n",
    "for index, row in concept_relationship_staging.iterrows():\n",
    "    # Convert the valid_start_date and valid_end_date from integer (YYYYMMDD) to date\n",
    "    valid_start_date = datetime.strptime(str(row['valid_start_date']), '%Y%m%d').date() if pd.notnull(row['valid_start_date']) else None\n",
    "    valid_end_date = datetime.strptime(str(row['valid_end_date']), '%Y%m%d').date() if pd.notnull(row['valid_end_date']) else None\n",
    "\n",
    "    cursor.execute(sql, (\n",
    "        row['concept_id_1'], \n",
    "        row['concept_id_2'], \n",
    "        row['relationship_id'], \n",
    "        valid_start_date, \n",
    "        valid_end_date\n",
    "    ))\n",
    "\n",
    "conn.commit() "
   ]
  },
  {
   "cell_type": "code",
   "execution_count": null,
   "metadata": {},
   "outputs": [],
   "source": [
    "# Update CONCEPT_RELATIONSHIP\n",
    "\n",
    "sql = '''\n",
    "    INSERT INTO dbo.concept_relationship (concept_id_1, concept_id_2, relationship_id, valid_start_date, valid_end_date) \n",
    "    VALUES (%s,%s,%s,%s,%s)\n",
    "    '''\n",
    "for index, row in cs_values_maps_to_value.iterrows():\n",
    "    valid_start_date = datetime.strptime(str(19930101), '%Y%m%d').date()\n",
    "    valid_end_date = datetime.strptime(str(20991231), '%Y%m%d').date()\n",
    "\n",
    "    cursor.execute(sql, (\n",
    "        row['concept_id_1'], \n",
    "        row['concept_id_2'], \n",
    "        row['relationship_id'], \n",
    "        valid_start_date, \n",
    "        valid_end_date\n",
    "    ))\n",
    "\n",
    "conn.commit()"
   ]
  },
  {
   "cell_type": "code",
   "execution_count": null,
   "metadata": {},
   "outputs": [],
   "source": [
    "# Update CONCEPT_RELATIONSHIP\n",
    "\n",
    "sql = '''\n",
    "    INSERT INTO dbo.concept_relationship (concept_id_1, concept_id_2, relationship_id, valid_start_date, valid_end_date) \n",
    "    VALUES (%s,%s,%s,%s,%s)\n",
    "    '''\n",
    "for index, row in cs_values_maps_to.iterrows():\n",
    "    valid_start_date = datetime.strptime(str(19930101), '%Y%m%d').date()\n",
    "    valid_end_date = datetime.strptime(str(20991231), '%Y%m%d').date()\n",
    "\n",
    "    cursor.execute(sql, (\n",
    "        row['concept_id_1'], \n",
    "        row['concept_id_2'], \n",
    "        row['relationship_id'], \n",
    "        valid_start_date, \n",
    "        valid_end_date\n",
    "    ))\n",
    "\n",
    "conn.commit()"
   ]
  },
  {
   "cell_type": "code",
   "execution_count": null,
   "metadata": {},
   "outputs": [],
   "source": [
    "# close the cursor and connection\n",
    "cursor.close()\n",
    "conn.close()"
   ]
  }
 ],
 "metadata": {
  "kernelspec": {
   "display_name": "Python 3",
   "language": "python",
   "name": "python3"
  },
  "language_info": {
   "name": "python",
   "version": "3.9.6"
  }
 },
 "nbformat": 4,
 "nbformat_minor": 2
}
