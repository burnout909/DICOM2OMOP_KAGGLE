{
 "cells": [
  {
   "cell_type": "code",
   "execution_count": 1,
   "metadata": {},
   "outputs": [
    {
     "name": "stdout",
     "output_type": "stream",
     "text": [
      "Note: you may need to restart the kernel to use updated packages.\n"
     ]
    },
    {
     "name": "stderr",
     "output_type": "stream",
     "text": [
      "WARNING: Ignoring invalid distribution -ip (c:\\users\\14107\\appdata\\local\\packages\\pythonsoftwarefoundation.python.3.9_qbz5n2kfra8p0\\localcache\\local-packages\\python39\\site-packages)\n",
      "WARNING: Ignoring invalid distribution -ip (c:\\users\\14107\\appdata\\local\\packages\\pythonsoftwarefoundation.python.3.9_qbz5n2kfra8p0\\localcache\\local-packages\\python39\\site-packages)\n",
      "ERROR: Could not find a version that satisfies the requirement xml.etree.ElementTree (from versions: none)\n",
      "ERROR: No matching distribution found for xml.etree.ElementTree\n",
      "WARNING: Ignoring invalid distribution -ip (c:\\users\\14107\\appdata\\local\\packages\\pythonsoftwarefoundation.python.3.9_qbz5n2kfra8p0\\localcache\\local-packages\\python39\\site-packages)\n",
      "WARNING: Ignoring invalid distribution -ip (c:\\users\\14107\\appdata\\local\\packages\\pythonsoftwarefoundation.python.3.9_qbz5n2kfra8p0\\localcache\\local-packages\\python39\\site-packages)\n",
      "WARNING: Ignoring invalid distribution -ip (c:\\users\\14107\\appdata\\local\\packages\\pythonsoftwarefoundation.python.3.9_qbz5n2kfra8p0\\localcache\\local-packages\\python39\\site-packages)\n",
      "\n",
      "[notice] A new release of pip available: 22.3.1 -> 23.3.1\n",
      "[notice] To update, run: python.exe -m pip install --upgrade pip\n"
     ]
    }
   ],
   "source": [
    "pip install xml.etree.ElementTree"
   ]
  },
  {
   "cell_type": "markdown",
   "metadata": {},
   "source": [
    "## DICOM Standard harvesting of Part 3 \n",
    "### Extract relationships between tags and CIDs"
   ]
  },
  {
   "cell_type": "code",
   "execution_count": 1,
   "metadata": {},
   "outputs": [],
   "source": [
    "import requests\n",
    "import xml.etree.ElementTree as ET\n",
    "\n",
    "# URI for DICOM Standard Part 6\n",
    "xml_uri = 'https://dicom.nema.org/medical/dicom/current/source/docbook/part03/part03.xml'\n",
    "\n",
    "# Parse the XML content\n",
    "response = requests.get(xml_uri)\n",
    "root = ET.fromstring(response.content)"
   ]
  },
  {
   "cell_type": "code",
   "execution_count": 16,
   "metadata": {},
   "outputs": [
    {
     "name": "stdout",
     "output_type": "stream",
     "text": [
      "{http://docbook.org/ns/docbook}title\n",
      "{http://docbook.org/ns/docbook}subtitle\n",
      "{http://docbook.org/ns/docbook}info\n",
      "{http://docbook.org/ns/docbook}chapter\n",
      "{http://docbook.org/ns/docbook}chapter\n",
      "{http://docbook.org/ns/docbook}chapter\n",
      "{http://docbook.org/ns/docbook}chapter\n",
      "{http://docbook.org/ns/docbook}chapter\n",
      "{http://docbook.org/ns/docbook}chapter\n",
      "{http://docbook.org/ns/docbook}chapter\n",
      "{http://docbook.org/ns/docbook}chapter\n",
      "{http://docbook.org/ns/docbook}chapter\n",
      "{http://docbook.org/ns/docbook}chapter\n",
      "{http://docbook.org/ns/docbook}chapter\n",
      "{http://docbook.org/ns/docbook}chapter\n",
      "{http://docbook.org/ns/docbook}chapter\n",
      "{http://docbook.org/ns/docbook}chapter\n",
      "{http://docbook.org/ns/docbook}chapter\n",
      "{http://docbook.org/ns/docbook}chapter\n",
      "{http://docbook.org/ns/docbook}chapter\n",
      "{http://docbook.org/ns/docbook}chapter\n",
      "{http://docbook.org/ns/docbook}chapter\n",
      "{http://docbook.org/ns/docbook}chapter\n",
      "{http://docbook.org/ns/docbook}chapter\n",
      "{http://docbook.org/ns/docbook}chapter\n",
      "{http://docbook.org/ns/docbook}chapter\n",
      "{http://docbook.org/ns/docbook}chapter\n",
      "{http://docbook.org/ns/docbook}chapter\n",
      "{http://docbook.org/ns/docbook}chapter\n",
      "{http://docbook.org/ns/docbook}chapter\n",
      "{http://docbook.org/ns/docbook}chapter\n"
     ]
    }
   ],
   "source": [
    "for child in root:\n",
    "    print(child.tag)\n"
   ]
  },
  {
   "cell_type": "code",
   "execution_count": 17,
   "metadata": {},
   "outputs": [
    {
     "ename": "NameError",
     "evalue": "name 'selected_node' is not defined",
     "output_type": "error",
     "traceback": [
      "\u001b[1;31m---------------------------------------------------------------------------\u001b[0m",
      "\u001b[1;31mNameError\u001b[0m                                 Traceback (most recent call last)",
      "Input \u001b[1;32mIn [17]\u001b[0m, in \u001b[0;36m<cell line: 5>\u001b[1;34m()\u001b[0m\n\u001b[0;32m      4\u001b[0m \u001b[38;5;66;03m# Get table 1 from Chapter 6\u001b[39;00m\n\u001b[0;32m      5\u001b[0m \u001b[38;5;28;01mif\u001b[39;00m root \u001b[38;5;129;01mis\u001b[39;00m \u001b[38;5;129;01mnot\u001b[39;00m \u001b[38;5;28;01mNone\u001b[39;00m:\n\u001b[1;32m----> 6\u001b[0m     grandchild_table \u001b[38;5;241m=\u001b[39m \u001b[43mselected_node\u001b[49m\u001b[38;5;241m.\u001b[39mfind(\u001b[38;5;124m'\u001b[39m\u001b[38;5;124m.//\u001b[39m\u001b[38;5;124m{\u001b[39m\u001b[38;5;124mhttp://docbook.org/ns/docbook}table\u001b[39m\u001b[38;5;124m'\u001b[39m)\n\u001b[0;32m      7\u001b[0m     \u001b[38;5;28;01mif\u001b[39;00m grandchild_table \u001b[38;5;129;01mis\u001b[39;00m \u001b[38;5;129;01mnot\u001b[39;00m \u001b[38;5;28;01mNone\u001b[39;00m:\n\u001b[0;32m      8\u001b[0m         thead \u001b[38;5;241m=\u001b[39m grandchild_table\u001b[38;5;241m.\u001b[39mfind(\u001b[38;5;124m'\u001b[39m\u001b[38;5;124m.//\u001b[39m\u001b[38;5;124m{\u001b[39m\u001b[38;5;124mhttp://docbook.org/ns/docbook}thead\u001b[39m\u001b[38;5;124m'\u001b[39m)\n",
      "\u001b[1;31mNameError\u001b[0m: name 'selected_node' is not defined"
     ]
    }
   ],
   "source": [
    "import pandas as pd\n",
    "from collections import defaultdict\n",
    "\n",
    "# Get table 1 from Chapter 6\n",
    "if root is not None:\n",
    "    grandchild_table = selected_node.find('.//{http://docbook.org/ns/docbook}table')\n",
    "    if grandchild_table is not None:\n",
    "        thead = grandchild_table.find('.//{http://docbook.org/ns/docbook}thead')\n",
    "        tbody = grandchild_table.find('.//{http://docbook.org/ns/docbook}tbody')\n",
    "\n",
    "        # Store column names\n",
    "        column_names = []\n",
    "        if thead is not None:\n",
    "            for tr in thead.findall('.//{http://docbook.org/ns/docbook}tr'):\n",
    "                thead_names = tr.findall('.//{http://docbook.org/ns/docbook}emphasis')\n",
    "                if thead_names is not None:\n",
    "                    for name in thead_names:\n",
    "                        column_names.append(name.text.strip())\n",
    "\n",
    "            # Store row values\n",
    "            rows = tbody.findall('.//{http://docbook.org/ns/docbook}tr')\n",
    "            rows_data = []\n",
    "\n",
    "            # Loop through tbody to extract values\n",
    "            for tr in rows:\n",
    "                row_values = defaultdict(lambda: None)\n",
    "                idx = 0\n",
    "                for para in tr.findall('.//{http://docbook.org/ns/docbook}para'):\n",
    "                    emphasis = para.find('.//{http://docbook.org/ns/docbook}emphasis')\n",
    "                    if emphasis is not None and emphasis.text is not None:\n",
    "                        row_values[column_names[idx]] = emphasis.text.strip()\n",
    "                        idx += 1\n",
    "                        if idx >= len(column_names):\n",
    "                            break\n",
    "                    else:\n",
    "                        if para is not None and para.text is not None:\n",
    "                            row_values[column_names[idx]] = para.text.strip()\n",
    "                            idx += 1\n",
    "                            if idx >= len(column_names):\n",
    "                                break\n",
    "\n",
    "                # Append to the table only if it has more than 3 values\n",
    "                if sum(1 for value in row_values.values() if value is not None) > 3:\n",
    "                    rows_data.append(row_values)\n",
    "\n",
    "            # Save the output as a DataFrame\n",
    "            df = pd.DataFrame(rows_data, columns=column_names)\n",
    "            print(df)\n",
    "else:\n",
    "    print(\"Node with label='6' not found.\")"
   ]
  }
 ],
 "metadata": {
  "kernelspec": {
   "display_name": "Python 3",
   "language": "python",
   "name": "python3"
  },
  "language_info": {
   "codemirror_mode": {
    "name": "ipython",
    "version": 3
   },
   "file_extension": ".py",
   "mimetype": "text/x-python",
   "name": "python",
   "nbconvert_exporter": "python",
   "pygments_lexer": "ipython3",
   "version": "3.9.13"
  }
 },
 "nbformat": 4,
 "nbformat_minor": 2
}
